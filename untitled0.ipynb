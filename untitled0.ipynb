{
  "nbformat": 4,
  "nbformat_minor": 0,
  "metadata": {
    "colab": {
      "provenance": [],
      "authorship_tag": "ABX9TyPn1pRnemP8Nzn7L2dKrWIk",
      "include_colab_link": true
    },
    "kernelspec": {
      "name": "python3",
      "display_name": "Python 3"
    },
    "language_info": {
      "name": "python"
    }
  },
  "cells": [
    {
      "cell_type": "markdown",
      "metadata": {
        "id": "view-in-github",
        "colab_type": "text"
      },
      "source": [
        "<a href=\"https://colab.research.google.com/github/Usolceva/-3/blob/master/untitled0.ipynb\" target=\"_parent\"><img src=\"https://colab.research.google.com/assets/colab-badge.svg\" alt=\"Open In Colab\"/></a>"
      ]
    },
    {
      "cell_type": "code",
      "execution_count": null,
      "metadata": {
        "colab": {
          "base_uri": "https://localhost:8080/"
        },
        "id": "JcOWnj17mUfY",
        "outputId": "15d21273-6522-43cd-ad04-25cdd7113dc3"
      },
      "outputs": [
        {
          "output_type": "stream",
          "name": "stdout",
          "text": [
            "  whoAmI  human  robot\n",
            "0  human      1      0\n",
            "1  robot      0      1\n",
            "2  robot      0      1\n",
            "3  human      1      0\n",
            "4  robot      0      1\n",
            "   whoAmI_human  whoAmI_robot\n",
            "0           1.0           0.0\n",
            "1           0.0           1.0\n",
            "2           0.0           1.0\n",
            "3           1.0           0.0\n",
            "4           0.0           1.0\n"
          ]
        }
      ],
      "source": [
        "from sklearn.preprocessing import OneHotEncoder\n",
        "import pandas as pd\n",
        "import random\n",
        "\n",
        "lst = ['robot'] * 10\n",
        "lst += ['human'] * 10\n",
        "random.shuffle(lst)\n",
        "data = pd.DataFrame({'whoAmI': lst})\n",
        "\n",
        "# C использованием get_dummies\n",
        "one_hot = pd.get_dummies(data['whoAmI'], sparse=False)\n",
        "\n",
        "data = pd.concat([data, one_hot], axis=1)\n",
        "print(data.head())\n",
        "\n",
        "\n",
        "# Без использования get_dummies\n",
        "enc = OneHotEncoder()\n",
        "enc.fit(data[['whoAmI']])\n",
        "\n",
        "one_hot = enc.transform(data[['whoAmI']])\n",
        "cols = enc.get_feature_names_out(['whoAmI'])\n",
        "\n",
        "one_hot_df = pd.DataFrame(one_hot.toarray(), columns=cols)\n",
        "print(one_hot_df.head())"
      ]
    },
    {
      "cell_type": "markdown",
      "source": [
        "| Задание 44 |\n",
        "| --- |\n",
        "| В ячейке ниже представлен код генерирующий DataFrame, которая состоит всего из 1 столбца. Ваша задача перевести его в one hot вид. Сможете ли вы это сделать без get_dummies?\n",
        "\n",
        "import random\n",
        "lst = ['robot'] * 10\n",
        "lst += ['human'] * 10\n",
        "random.shuffle(lst)\n",
        "data = pd.DataFrame({'whoAmI'lst})\n",
        "data.head() |"
      ],
      "metadata": {
        "id": "oyM0G8iJmWc1"
      }
    }
  ]
}